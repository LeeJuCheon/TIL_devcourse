{
  "nbformat": 4,
  "nbformat_minor": 0,
  "metadata": {
    "colab": {
      "name": "week9-4-3_Pytorch_Tutorial(Autograd,MLP).ipynb",
      "provenance": [],
      "authorship_tag": "ABX9TyOMREBaG/MyXMCTqCgJbDEa",
      "include_colab_link": true
    },
    "kernelspec": {
      "name": "python3",
      "display_name": "Python 3"
    },
    "language_info": {
      "name": "python"
    },
    "accelerator": "GPU"
  },
  "cells": [
    {
      "cell_type": "markdown",
      "metadata": {
        "id": "view-in-github",
        "colab_type": "text"
      },
      "source": [
        "<a href=\"https://colab.research.google.com/github/LeeJuCheon/TIL_devcourse/blob/main/week9/week9_4_3_Pytorch_Tutorial(Autograd%2CMLP).ipynb\" target=\"_parent\"><img src=\"https://colab.research.google.com/assets/colab-badge.svg\" alt=\"Open In Colab\"/></a>"
      ]
    },
    {
      "cell_type": "code",
      "execution_count": null,
      "metadata": {
        "id": "YSsBKgHyE3rx"
      },
      "outputs": [],
      "source": [
        ""
      ]
    },
    {
      "cell_type": "markdown",
      "source": [
        "# Autograd\n",
        "\n",
        "* autograd 패키지는 모든 연산에 대한 자동 미분 제공\n",
        "* 실행-기반-정의 프레임워크\n",
        "\n",
        "# Tensor\n",
        "* torch.Tensor 클래스의 .requires_grad 속성을 True로 설정하면, 해당 텐서에서 이루어진 모든 연산을 추적\n",
        "* 계산이 완료된 후 .backward()를 호출하여 모든 gradient를 자동으로 계산할 수 있으며 이 Tensor의 변화도는 .grad 속성에 누적됨\n",
        "* Tensor가 기록을 추적하는 것을 중단하게 하려면, .detach()를 호출하여 연산기록으로부터 분리하여 연산이 추적되는 것을 방지할 수 있음\n",
        "* 기록을 추적하는 것과 메모리를 사용하는 것을 방지하기 위해서 코드블럭을 with torch.no_grad():로 감쌀 수 있음\n",
        "* gradient는 필요없지만 requires_grad=True가 설정되어 학습 가능한 매개변수를 갖는 모델을 평가할 때 유용\n",
        "* Autograd 구현에서 Function 클래스는 매우 중요한 역할을 수행\n",
        "* Tensor와 Function은 서로 연결되어 있고 모든 연산 과정을 부호화하여 순환하지 않는 그래프를 생성\n",
        "* 각 tensor는 .grad_fn 속성을 가지고 있는데 이는 Tensor를 생성한 Function을 참조함\n",
        "* 도함수를 계산하기 위해서는 Tensor의 .backward()를 호출하면 됨"
      ],
      "metadata": {
        "id": "YxdweR0XFjXj"
      }
    },
    {
      "cell_type": "code",
      "source": [
        "from __future__ import print_function     # 파이썬 버전에 상관없이 print() 출력가능\n",
        "import torch\n",
        "\n",
        "torch.__version__"
      ],
      "metadata": {
        "colab": {
          "base_uri": "https://localhost:8080/",
          "height": 35
        },
        "id": "mcnV8sg7UHIm",
        "outputId": "a961afa5-daea-4f35-d2de-bba0e022cded"
      },
      "execution_count": 1,
      "outputs": [
        {
          "output_type": "execute_result",
          "data": {
            "text/plain": [
              "'1.10.0+cu111'"
            ],
            "application/vnd.google.colaboratory.intrinsic+json": {
              "type": "string"
            }
          },
          "metadata": {},
          "execution_count": 1
        }
      ]
    },
    {
      "cell_type": "code",
      "source": [
        "x = torch.ones(2,2,requires_grad=True)  # x의 연산과정 추적\n",
        "print(x)"
      ],
      "metadata": {
        "colab": {
          "base_uri": "https://localhost:8080/"
        },
        "id": "bSltckz3USNY",
        "outputId": "10f98950-1027-4710-f82a-af026e307455"
      },
      "execution_count": 2,
      "outputs": [
        {
          "output_type": "stream",
          "name": "stdout",
          "text": [
            "tensor([[1., 1.],\n",
            "        [1., 1.]], requires_grad=True)\n"
          ]
        }
      ]
    },
    {
      "cell_type": "code",
      "source": [
        "print(x.grad_fn)      # 직접 생성되었기 때문에 None"
      ],
      "metadata": {
        "colab": {
          "base_uri": "https://localhost:8080/"
        },
        "id": "_103-kYvVJaf",
        "outputId": "98a77cc0-6b17-45de-fbd6-5e7bbbbc983b"
      },
      "execution_count": 3,
      "outputs": [
        {
          "output_type": "stream",
          "name": "stdout",
          "text": [
            "None\n"
          ]
        }
      ]
    },
    {
      "cell_type": "code",
      "source": [
        "y= x+2\n",
        "y.retain_grad()\n",
        "print(y)          # 덧셈에 의해 생성됨 \"Add\"Backward"
      ],
      "metadata": {
        "colab": {
          "base_uri": "https://localhost:8080/"
        },
        "id": "oYGubpR2VLbX",
        "outputId": "fa589f74-9486-4a33-8c77-393975432b18"
      },
      "execution_count": 4,
      "outputs": [
        {
          "output_type": "stream",
          "name": "stdout",
          "text": [
            "tensor([[3., 3.],\n",
            "        [3., 3.]], grad_fn=<AddBackward0>)\n"
          ]
        }
      ]
    },
    {
      "cell_type": "code",
      "source": [
        "z = y*y*3\n",
        "out = z.mean()\n",
        "\n",
        "print(z)        # 곱셉 \"Mul\"Backward\n",
        "print(out)      # meanBackward"
      ],
      "metadata": {
        "colab": {
          "base_uri": "https://localhost:8080/"
        },
        "id": "_Rc-6xhqVVID",
        "outputId": "3d3890b1-78ca-4e19-df52-f56f1e8770ae"
      },
      "execution_count": 6,
      "outputs": [
        {
          "output_type": "stream",
          "name": "stdout",
          "text": [
            "tensor([[27., 27.],\n",
            "        [27., 27.]], grad_fn=<MulBackward0>)\n",
            "tensor(27., grad_fn=<MeanBackward0>)\n"
          ]
        }
      ]
    },
    {
      "cell_type": "code",
      "source": [
        "a = torch.randn(2,2)\n",
        "print(a)"
      ],
      "metadata": {
        "colab": {
          "base_uri": "https://localhost:8080/"
        },
        "id": "nz7yo1veVqoo",
        "outputId": "10047685-3f7d-4998-e27a-6a4115a07eaa"
      },
      "execution_count": 7,
      "outputs": [
        {
          "output_type": "stream",
          "name": "stdout",
          "text": [
            "tensor([[-0.8479,  1.7689],\n",
            "        [ 1.0883, -0.9916]])\n"
          ]
        }
      ]
    },
    {
      "cell_type": "code",
      "source": [
        "a= ((a*3)/(a-1))\n",
        "print(a)\n",
        "print(a.requires_grad)    # 기존 tensor의 requires_grad 값을 바꿀 수 있음"
      ],
      "metadata": {
        "colab": {
          "base_uri": "https://localhost:8080/"
        },
        "id": "9RzvaMsSV_qA",
        "outputId": "e1d28fe3-bbb3-4ffc-f1d0-ef5261318d07"
      },
      "execution_count": 8,
      "outputs": [
        {
          "output_type": "stream",
          "name": "stdout",
          "text": [
            "tensor([[ 1.3765,  6.9019],\n",
            "        [36.9848,  1.4936]])\n",
            "False\n"
          ]
        }
      ]
    },
    {
      "cell_type": "code",
      "source": [
        "a.requires_grad_(True)\n",
        "print(a.requires_grad)"
      ],
      "metadata": {
        "colab": {
          "base_uri": "https://localhost:8080/"
        },
        "id": "DjN3YUlAWMe5",
        "outputId": "ea6a9cef-9bfd-4ffa-9b6b-f084ea27f26f"
      },
      "execution_count": 10,
      "outputs": [
        {
          "output_type": "stream",
          "name": "stdout",
          "text": [
            "True\n"
          ]
        }
      ]
    },
    {
      "cell_type": "code",
      "source": [
        "b = (a*a).sum()\n",
        "print(b)\n",
        "print(b.requires_grad)"
      ],
      "metadata": {
        "colab": {
          "base_uri": "https://localhost:8080/"
        },
        "id": "Jr5HawYWWV1n",
        "outputId": "cd1d172d-c84e-4cb4-a422-fb2a470f0973"
      },
      "execution_count": 11,
      "outputs": [
        {
          "output_type": "stream",
          "name": "stdout",
          "text": [
            "tensor(1419.6348, grad_fn=<SumBackward0>)\n",
            "True\n"
          ]
        }
      ]
    },
    {
      "cell_type": "code",
      "source": [
        "print(out)\n",
        "\n",
        "y.retain_grad()\n",
        "z.retain_grad()\n",
        "out.backward()\n",
        "\n",
        "print(x.grad)\n",
        "print(y.grad)\n",
        "print(z.grad)\n",
        "print(z.is_leaf)\n",
        "\n",
        "#out.backward()\n",
        "print(x.grad)\n",
        "print(y.grad)"
      ],
      "metadata": {
        "colab": {
          "base_uri": "https://localhost:8080/",
          "height": 632
        },
        "id": "O5ZM9GC5WcA7",
        "outputId": "47a99ab8-3a4c-45a0-87ec-90610bb3daed"
      },
      "execution_count": 12,
      "outputs": [
        {
          "output_type": "stream",
          "name": "stdout",
          "text": [
            "tensor(27., grad_fn=<MeanBackward0>)\n",
            "tensor([[4.5000, 4.5000],\n",
            "        [4.5000, 4.5000]])\n",
            "tensor([[4.5000, 4.5000],\n",
            "        [4.5000, 4.5000]])\n",
            "tensor([[0.2500, 0.2500],\n",
            "        [0.2500, 0.2500]])\n",
            "False\n"
          ]
        },
        {
          "output_type": "error",
          "ename": "RuntimeError",
          "evalue": "ignored",
          "traceback": [
            "\u001b[0;31m---------------------------------------------------------------------------\u001b[0m",
            "\u001b[0;31mRuntimeError\u001b[0m                              Traceback (most recent call last)",
            "\u001b[0;32m<ipython-input-12-d7101e04b0a5>\u001b[0m in \u001b[0;36m<module>\u001b[0;34m()\u001b[0m\n\u001b[1;32m     10\u001b[0m \u001b[0mprint\u001b[0m\u001b[0;34m(\u001b[0m\u001b[0mz\u001b[0m\u001b[0;34m.\u001b[0m\u001b[0mis_leaf\u001b[0m\u001b[0;34m)\u001b[0m\u001b[0;34m\u001b[0m\u001b[0;34m\u001b[0m\u001b[0m\n\u001b[1;32m     11\u001b[0m \u001b[0;34m\u001b[0m\u001b[0m\n\u001b[0;32m---> 12\u001b[0;31m \u001b[0mout\u001b[0m\u001b[0;34m.\u001b[0m\u001b[0mbackward\u001b[0m\u001b[0;34m(\u001b[0m\u001b[0;34m)\u001b[0m\u001b[0;34m\u001b[0m\u001b[0;34m\u001b[0m\u001b[0m\n\u001b[0m\u001b[1;32m     13\u001b[0m \u001b[0mprint\u001b[0m\u001b[0;34m(\u001b[0m\u001b[0mx\u001b[0m\u001b[0;34m.\u001b[0m\u001b[0mgrad\u001b[0m\u001b[0;34m)\u001b[0m\u001b[0;34m\u001b[0m\u001b[0;34m\u001b[0m\u001b[0m\n\u001b[1;32m     14\u001b[0m \u001b[0mprint\u001b[0m\u001b[0;34m(\u001b[0m\u001b[0my\u001b[0m\u001b[0;34m.\u001b[0m\u001b[0mgrad\u001b[0m\u001b[0;34m)\u001b[0m\u001b[0;34m\u001b[0m\u001b[0;34m\u001b[0m\u001b[0m\n",
            "\u001b[0;32m/usr/local/lib/python3.7/dist-packages/torch/_tensor.py\u001b[0m in \u001b[0;36mbackward\u001b[0;34m(self, gradient, retain_graph, create_graph, inputs)\u001b[0m\n\u001b[1;32m    305\u001b[0m                 \u001b[0mcreate_graph\u001b[0m\u001b[0;34m=\u001b[0m\u001b[0mcreate_graph\u001b[0m\u001b[0;34m,\u001b[0m\u001b[0;34m\u001b[0m\u001b[0;34m\u001b[0m\u001b[0m\n\u001b[1;32m    306\u001b[0m                 inputs=inputs)\n\u001b[0;32m--> 307\u001b[0;31m         \u001b[0mtorch\u001b[0m\u001b[0;34m.\u001b[0m\u001b[0mautograd\u001b[0m\u001b[0;34m.\u001b[0m\u001b[0mbackward\u001b[0m\u001b[0;34m(\u001b[0m\u001b[0mself\u001b[0m\u001b[0;34m,\u001b[0m \u001b[0mgradient\u001b[0m\u001b[0;34m,\u001b[0m \u001b[0mretain_graph\u001b[0m\u001b[0;34m,\u001b[0m \u001b[0mcreate_graph\u001b[0m\u001b[0;34m,\u001b[0m \u001b[0minputs\u001b[0m\u001b[0;34m=\u001b[0m\u001b[0minputs\u001b[0m\u001b[0;34m)\u001b[0m\u001b[0;34m\u001b[0m\u001b[0;34m\u001b[0m\u001b[0m\n\u001b[0m\u001b[1;32m    308\u001b[0m \u001b[0;34m\u001b[0m\u001b[0m\n\u001b[1;32m    309\u001b[0m     \u001b[0;32mdef\u001b[0m \u001b[0mregister_hook\u001b[0m\u001b[0;34m(\u001b[0m\u001b[0mself\u001b[0m\u001b[0;34m,\u001b[0m \u001b[0mhook\u001b[0m\u001b[0;34m)\u001b[0m\u001b[0;34m:\u001b[0m\u001b[0;34m\u001b[0m\u001b[0;34m\u001b[0m\u001b[0m\n",
            "\u001b[0;32m/usr/local/lib/python3.7/dist-packages/torch/autograd/__init__.py\u001b[0m in \u001b[0;36mbackward\u001b[0;34m(tensors, grad_tensors, retain_graph, create_graph, grad_variables, inputs)\u001b[0m\n\u001b[1;32m    154\u001b[0m     Variable._execution_engine.run_backward(\n\u001b[1;32m    155\u001b[0m         \u001b[0mtensors\u001b[0m\u001b[0;34m,\u001b[0m \u001b[0mgrad_tensors_\u001b[0m\u001b[0;34m,\u001b[0m \u001b[0mretain_graph\u001b[0m\u001b[0;34m,\u001b[0m \u001b[0mcreate_graph\u001b[0m\u001b[0;34m,\u001b[0m \u001b[0minputs\u001b[0m\u001b[0;34m,\u001b[0m\u001b[0;34m\u001b[0m\u001b[0;34m\u001b[0m\u001b[0m\n\u001b[0;32m--> 156\u001b[0;31m         allow_unreachable=True, accumulate_grad=True)  # allow_unreachable flag\n\u001b[0m\u001b[1;32m    157\u001b[0m \u001b[0;34m\u001b[0m\u001b[0m\n\u001b[1;32m    158\u001b[0m \u001b[0;34m\u001b[0m\u001b[0m\n",
            "\u001b[0;31mRuntimeError\u001b[0m: Trying to backward through the graph a second time (or directly access saved tensors after they have already been freed). Saved intermediate values of the graph are freed when you call .backward() or autograd.grad(). Specify retain_graph=True if you need to backward through the graph a second time or if you need to access saved tensors after calling backward."
          ]
        }
      ]
    },
    {
      "cell_type": "code",
      "source": [
        "x = torch.ones(2,2,requires_grad=True)  # x의 연산과정 추적\n",
        "y= x+2\n",
        "z = y*y*3\n",
        "out = z.mean()\n",
        "\n",
        "print(out)      # meanBackward\n",
        "y.retain_grad()\n",
        "out.backward(retain_graph=True)\n",
        "print(x.grad)\n",
        "print(y.grad)\n",
        "print(z.grad)\n",
        "print(z.is_leaf)\n",
        "\n",
        "out.backward()\n",
        "print(x.grad)\n",
        "print(y.grad)"
      ],
      "metadata": {
        "colab": {
          "base_uri": "https://localhost:8080/"
        },
        "id": "EZLeD8OTW-CC",
        "outputId": "49c6e32d-ad49-4cdd-db9f-0bec6ec06070"
      },
      "execution_count": 13,
      "outputs": [
        {
          "output_type": "stream",
          "name": "stdout",
          "text": [
            "tensor(27., grad_fn=<MeanBackward0>)\n",
            "tensor([[4.5000, 4.5000],\n",
            "        [4.5000, 4.5000]])\n",
            "tensor([[4.5000, 4.5000],\n",
            "        [4.5000, 4.5000]])\n",
            "None\n",
            "False\n",
            "tensor([[9., 9.],\n",
            "        [9., 9.]])\n",
            "tensor([[9., 9.],\n",
            "        [9., 9.]])\n"
          ]
        },
        {
          "output_type": "stream",
          "name": "stderr",
          "text": [
            "/usr/local/lib/python3.7/dist-packages/torch/_tensor.py:1013: UserWarning: The .grad attribute of a Tensor that is not a leaf Tensor is being accessed. Its .grad attribute won't be populated during autograd.backward(). If you indeed want the .grad field to be populated for a non-leaf Tensor, use .retain_grad() on the non-leaf Tensor. If you access the non-leaf Tensor by mistake, make sure you access the leaf Tensor instead. See github.com/pytorch/pytorch/pull/30531 for more informations. (Triggered internally at  aten/src/ATen/core/TensorBody.h:417.)\n",
            "  return self._grad\n"
          ]
        }
      ]
    },
    {
      "cell_type": "code",
      "source": [
        "x = torch.randn(3, requires_grad=True)\n",
        "\n",
        "y = x*2\n",
        "\n",
        "while y.data.norm() <1000:\n",
        "  y=y*2\n",
        "\n",
        "print(y)"
      ],
      "metadata": {
        "colab": {
          "base_uri": "https://localhost:8080/"
        },
        "id": "Q59smTUpXiq3",
        "outputId": "2f8914e3-61bc-4957-b317-5ae8ec65bd2c"
      },
      "execution_count": 14,
      "outputs": [
        {
          "output_type": "stream",
          "name": "stdout",
          "text": [
            "tensor([-729.5689, 1030.0637, -990.4270], grad_fn=<MulBackward0>)\n"
          ]
        }
      ]
    },
    {
      "cell_type": "code",
      "source": [
        "v = torch.tensor([0.1,1.0,0.0001], dtype=torch.float)\n",
        "y.backward(v)\n",
        "\n",
        "print(x.grad)"
      ],
      "metadata": {
        "colab": {
          "base_uri": "https://localhost:8080/"
        },
        "id": "ODjVxxLkYIh8",
        "outputId": "6e8e7540-9bac-4e7a-d481-9971f485ef2c"
      },
      "execution_count": 15,
      "outputs": [
        {
          "output_type": "stream",
          "name": "stdout",
          "text": [
            "tensor([1.0240e+02, 1.0240e+03, 1.0240e-01])\n"
          ]
        }
      ]
    },
    {
      "cell_type": "code",
      "source": [
        "# with torch.no_grad : 연산기록 추적을 멈출 수 있음\n",
        "print(x.requires_grad)\n",
        "print((x**2).requires_grad)\n",
        "\n",
        "with torch.no_grad():\n",
        "  print((x**2).requires_grad)"
      ],
      "metadata": {
        "colab": {
          "base_uri": "https://localhost:8080/"
        },
        "id": "T3EvwxKUYdiX",
        "outputId": "6e452d5c-588a-4fd6-d83c-d979232c622b"
      },
      "execution_count": 16,
      "outputs": [
        {
          "output_type": "stream",
          "name": "stdout",
          "text": [
            "True\n",
            "True\n",
            "False\n"
          ]
        }
      ]
    },
    {
      "cell_type": "code",
      "source": [
        "print(x.requires_grad)\n",
        "y=x.detach()\n",
        "print(y.requires_grad)\n",
        "print(x.eq(y).all())"
      ],
      "metadata": {
        "colab": {
          "base_uri": "https://localhost:8080/"
        },
        "id": "rgfTPbJKY0wb",
        "outputId": "0aa97fad-70f5-4831-a7a2-91981ffde7c7"
      },
      "execution_count": 17,
      "outputs": [
        {
          "output_type": "stream",
          "name": "stdout",
          "text": [
            "True\n",
            "False\n",
            "tensor(True)\n"
          ]
        }
      ]
    },
    {
      "cell_type": "code",
      "source": [
        ""
      ],
      "metadata": {
        "id": "J4XlkltLZDpE"
      },
      "execution_count": null,
      "outputs": []
    },
    {
      "cell_type": "markdown",
      "source": [
        "#ANN(Artificial Neural Networks) 활용\n",
        "\n",
        "* iris 데이터에 적용하기"
      ],
      "metadata": {
        "id": "6AUm8vCPZROs"
      }
    },
    {
      "cell_type": "code",
      "source": [
        "import pandas as pd\n",
        "from sklearn.datasets import load_iris\n",
        "\n",
        "import torch\n",
        "import torch.nn as nn\n",
        "from torch.utils.data import DataLoader, TensorDataset # 미니배치활용"
      ],
      "metadata": {
        "id": "MhZoAWjQZbF3"
      },
      "execution_count": 21,
      "outputs": []
    },
    {
      "cell_type": "code",
      "source": [
        "class Net(nn.Module):\n",
        "  def __init__(self):\n",
        "    super(Net,self).__init__()\n",
        "    self.layer0 = nn.Linear(4,128)\n",
        "    self.layer1 = nn.Linear(128,64)\n",
        "    self.layer2 = nn.Linear(64,32)\n",
        "    self.layer3 = nn.Linear(32,16)\n",
        "    self.layer4 = nn.Linear(16,3)\n",
        "\n",
        "    self.bn0 = nn.BatchNorm1d(128)        # 값을 정규화해주는 특성\n",
        "    self.bn1 = nn.BatchNorm1d(64)\n",
        "    self.bn2 = nn.BatchNorm1d(32)\n",
        "\n",
        "    self.act = nn.ReLU()\n",
        "\n",
        "  def forward(self, x):\n",
        "    x = self.act(self.bn0(self.layer0(x)))\n",
        "    x = self.act(self.bn1(self.layer1(x)))\n",
        "    x = self.act(self.bn2(self.layer2(x)))\n",
        "    x = self.act(self.layer3(x))\n",
        "    x=self.layer4(x)\n",
        "\n",
        "    return x"
      ],
      "metadata": {
        "id": "mwOqDvEUZ5Hn"
      },
      "execution_count": 24,
      "outputs": []
    },
    {
      "cell_type": "code",
      "source": [
        "criterion =nn.CrossEntropyLoss()    #정의역 지정, 다중 분류에 적합\n",
        "\n",
        "ex_X,ex_y = torch.randn([4,4]), torch.tensor([1,0,2,0]) # multiclassification\n",
        "\n",
        "net = Net()\n",
        "output = net(ex_X)\n",
        "\n",
        "print(output)\n",
        "loss = criterion(output, ex_y)\n",
        "print('loss: ',loss.item())\n",
        "\n",
        "net.zero_grad()       # 이전 grad 초기화\n",
        "\n",
        "print('layer0.bias.grad before backward')\n",
        "print(net.layer4.bias.grad)\n",
        "\n",
        "loss.backward()\n",
        "\n",
        "print('layer0.bias.grad after backward')\n",
        "print(net.layer4.bias.grad)"
      ],
      "metadata": {
        "colab": {
          "base_uri": "https://localhost:8080/"
        },
        "id": "qocUll8eaCKT",
        "outputId": "59d08fcc-37ee-4263-ca57-30c1e4190ec0"
      },
      "execution_count": 25,
      "outputs": [
        {
          "output_type": "stream",
          "name": "stdout",
          "text": [
            "tensor([[ 0.2233,  0.1155,  0.0846],\n",
            "        [-0.0041, -0.1265,  0.0982],\n",
            "        [ 0.0890, -0.0708,  0.0796],\n",
            "        [-0.1535, -0.2818,  0.1631]], grad_fn=<AddmmBackward0>)\n",
            "loss:  1.1139458417892456\n",
            "layer0.bias.grad before backward\n",
            "None\n",
            "layer0.bias.grad after backward\n",
            "tensor([-0.1613,  0.0476,  0.1138])\n"
          ]
        }
      ]
    },
    {
      "cell_type": "code",
      "source": [
        "params = list(net.parameters())\n",
        "print(len(params))\n",
        "print(params[0].size())"
      ],
      "metadata": {
        "colab": {
          "base_uri": "https://localhost:8080/"
        },
        "id": "_4DfSZqNcYJY",
        "outputId": "b6df8e42-bd6f-417a-9c0a-2f3ec879205a"
      },
      "execution_count": 26,
      "outputs": [
        {
          "output_type": "stream",
          "name": "stdout",
          "text": [
            "16\n",
            "torch.Size([128, 4])\n"
          ]
        }
      ]
    },
    {
      "cell_type": "code",
      "source": [
        "# SGD 채택\n",
        "\n",
        "import torch.optim as optim\n",
        "\n",
        "optimizer = optim.SGD(net.parameters(), lr=0.001)\n",
        "\n",
        "optimizer.zero_grad()\n",
        "output = net(ex_X)\n",
        "loss = criterion(output,ex_y)\n",
        "loss.backward()\n",
        "optimizer.step()"
      ],
      "metadata": {
        "id": "EIlt50VPdM6Q"
      },
      "execution_count": 27,
      "outputs": []
    },
    {
      "cell_type": "code",
      "source": [
        "#MLP 모델\n",
        "\n",
        "dataset = load_iris()\n",
        "data = dataset.data\n",
        "label = dataset.target\n",
        "\n",
        "print(dataset.DESCR)"
      ],
      "metadata": {
        "colab": {
          "base_uri": "https://localhost:8080/"
        },
        "id": "KhsvZTnEddT_",
        "outputId": "5ca371ac-e805-4d4a-f07d-f568416e0dc6"
      },
      "execution_count": 28,
      "outputs": [
        {
          "output_type": "stream",
          "name": "stdout",
          "text": [
            ".. _iris_dataset:\n",
            "\n",
            "Iris plants dataset\n",
            "--------------------\n",
            "\n",
            "**Data Set Characteristics:**\n",
            "\n",
            "    :Number of Instances: 150 (50 in each of three classes)\n",
            "    :Number of Attributes: 4 numeric, predictive attributes and the class\n",
            "    :Attribute Information:\n",
            "        - sepal length in cm\n",
            "        - sepal width in cm\n",
            "        - petal length in cm\n",
            "        - petal width in cm\n",
            "        - class:\n",
            "                - Iris-Setosa\n",
            "                - Iris-Versicolour\n",
            "                - Iris-Virginica\n",
            "                \n",
            "    :Summary Statistics:\n",
            "\n",
            "    ============== ==== ==== ======= ===== ====================\n",
            "                    Min  Max   Mean    SD   Class Correlation\n",
            "    ============== ==== ==== ======= ===== ====================\n",
            "    sepal length:   4.3  7.9   5.84   0.83    0.7826\n",
            "    sepal width:    2.0  4.4   3.05   0.43   -0.4194\n",
            "    petal length:   1.0  6.9   3.76   1.76    0.9490  (high!)\n",
            "    petal width:    0.1  2.5   1.20   0.76    0.9565  (high!)\n",
            "    ============== ==== ==== ======= ===== ====================\n",
            "\n",
            "    :Missing Attribute Values: None\n",
            "    :Class Distribution: 33.3% for each of 3 classes.\n",
            "    :Creator: R.A. Fisher\n",
            "    :Donor: Michael Marshall (MARSHALL%PLU@io.arc.nasa.gov)\n",
            "    :Date: July, 1988\n",
            "\n",
            "The famous Iris database, first used by Sir R.A. Fisher. The dataset is taken\n",
            "from Fisher's paper. Note that it's the same as in R, but not as in the UCI\n",
            "Machine Learning Repository, which has two wrong data points.\n",
            "\n",
            "This is perhaps the best known database to be found in the\n",
            "pattern recognition literature.  Fisher's paper is a classic in the field and\n",
            "is referenced frequently to this day.  (See Duda & Hart, for example.)  The\n",
            "data set contains 3 classes of 50 instances each, where each class refers to a\n",
            "type of iris plant.  One class is linearly separable from the other 2; the\n",
            "latter are NOT linearly separable from each other.\n",
            "\n",
            ".. topic:: References\n",
            "\n",
            "   - Fisher, R.A. \"The use of multiple measurements in taxonomic problems\"\n",
            "     Annual Eugenics, 7, Part II, 179-188 (1936); also in \"Contributions to\n",
            "     Mathematical Statistics\" (John Wiley, NY, 1950).\n",
            "   - Duda, R.O., & Hart, P.E. (1973) Pattern Classification and Scene Analysis.\n",
            "     (Q327.D83) John Wiley & Sons.  ISBN 0-471-22361-1.  See page 218.\n",
            "   - Dasarathy, B.V. (1980) \"Nosing Around the Neighborhood: A New System\n",
            "     Structure and Classification Rule for Recognition in Partially Exposed\n",
            "     Environments\".  IEEE Transactions on Pattern Analysis and Machine\n",
            "     Intelligence, Vol. PAMI-2, No. 1, 67-71.\n",
            "   - Gates, G.W. (1972) \"The Reduced Nearest Neighbor Rule\".  IEEE Transactions\n",
            "     on Information Theory, May 1972, 431-433.\n",
            "   - See also: 1988 MLC Proceedings, 54-64.  Cheeseman et al\"s AUTOCLASS II\n",
            "     conceptual clustering system finds 3 classes in the data.\n",
            "   - Many, many more ...\n"
          ]
        }
      ]
    },
    {
      "cell_type": "code",
      "source": [
        "print(data.shape)\n",
        "print(label.shape)"
      ],
      "metadata": {
        "colab": {
          "base_uri": "https://localhost:8080/"
        },
        "id": "c6u06cwod2sM",
        "outputId": "a87452ce-5a21-4254-efec-1efc9776625b"
      },
      "execution_count": 29,
      "outputs": [
        {
          "output_type": "stream",
          "name": "stdout",
          "text": [
            "(150, 4)\n",
            "(150,)\n"
          ]
        }
      ]
    },
    {
      "cell_type": "code",
      "source": [
        "from sklearn.model_selection import train_test_split\n",
        "\n",
        "X_train,X_test,y_train,y_test = train_test_split(data,label,test_size=0.25)\n",
        "print(len(X_train))\n",
        "print(len(X_test))"
      ],
      "metadata": {
        "colab": {
          "base_uri": "https://localhost:8080/"
        },
        "id": "jqlGcDWceLsT",
        "outputId": "adc63eef-40f2-4d81-a6f3-25c854568a09"
      },
      "execution_count": 33,
      "outputs": [
        {
          "output_type": "stream",
          "name": "stdout",
          "text": [
            "112\n",
            "38\n"
          ]
        }
      ]
    },
    {
      "cell_type": "code",
      "source": [
        "X_train = torch.from_numpy(X_train).float()\n",
        "y_train = torch.from_numpy(y_train).long()\n",
        "\n",
        "X_test = torch.from_numpy(X_test).float()\n",
        "y_test = torch.from_numpy(y_test).long()\n",
        "\n",
        "train_set = TensorDataset(X_train,y_train)\n",
        "\n",
        "train_loader = DataLoader(train_set, batch_size=4, shuffle=True)"
      ],
      "metadata": {
        "id": "bSkbt8Q2eUu8"
      },
      "execution_count": 34,
      "outputs": []
    },
    {
      "cell_type": "code",
      "source": [
        "class Net(nn.Module):\n",
        "  def __init__(self):\n",
        "    super(Net,self).__init__()\n",
        "    self.layer0 = nn.Linear(4,128)      # 5개의 선형 모델\n",
        "    self.layer1 = nn.Linear(128,64)\n",
        "    self.layer2 = nn.Linear(64,32)\n",
        "    self.layer3 = nn.Linear(32,16)\n",
        "    self.layer4 = nn.Linear(16,3)\n",
        "\n",
        "    self.bn0 = nn.BatchNorm1d(128)        # 값을 정규화해주는 특성\n",
        "    self.bn1 = nn.BatchNorm1d(64)\n",
        "    self.bn2 = nn.BatchNorm1d(32)\n",
        "\n",
        "    self.act = nn.ReLU()\n",
        "\n",
        "  def forward(self, x):\n",
        "    x = self.act(self.bn0(self.layer0(x)))\n",
        "    x = self.act(self.bn1(self.layer1(x)))\n",
        "    x = self.act(self.bn2(self.layer2(x)))\n",
        "    x = self.act(self.layer3(x))\n",
        "    x=self.layer4(x)\n",
        "\n",
        "    return x"
      ],
      "metadata": {
        "id": "OT6L_V-zem4Z"
      },
      "execution_count": 35,
      "outputs": []
    },
    {
      "cell_type": "code",
      "source": [
        "net = Net()\n",
        "print(net)"
      ],
      "metadata": {
        "colab": {
          "base_uri": "https://localhost:8080/"
        },
        "id": "S22yjccoe6U4",
        "outputId": "817d8229-e11d-4ddc-9cce-7429f6930f3d"
      },
      "execution_count": 36,
      "outputs": [
        {
          "output_type": "stream",
          "name": "stdout",
          "text": [
            "Net(\n",
            "  (layer0): Linear(in_features=4, out_features=128, bias=True)\n",
            "  (layer1): Linear(in_features=128, out_features=64, bias=True)\n",
            "  (layer2): Linear(in_features=64, out_features=32, bias=True)\n",
            "  (layer3): Linear(in_features=32, out_features=16, bias=True)\n",
            "  (layer4): Linear(in_features=16, out_features=3, bias=True)\n",
            "  (bn0): BatchNorm1d(128, eps=1e-05, momentum=0.1, affine=True, track_running_stats=True)\n",
            "  (bn1): BatchNorm1d(64, eps=1e-05, momentum=0.1, affine=True, track_running_stats=True)\n",
            "  (bn2): BatchNorm1d(32, eps=1e-05, momentum=0.1, affine=True, track_running_stats=True)\n",
            "  (act): ReLU()\n",
            ")\n"
          ]
        }
      ]
    },
    {
      "cell_type": "code",
      "source": [
        "optimizer = torch.optim.SGD(net.parameters(), lr=0.001)\n",
        "criterion = nn.CrossEntropyLoss()\n",
        "epochs = 200"
      ],
      "metadata": {
        "id": "RFFOgUB4fDm6"
      },
      "execution_count": 37,
      "outputs": []
    },
    {
      "cell_type": "code",
      "source": [
        "losses = list()\n",
        "accuracies = list()\n",
        "\n",
        "for epoch in range(epochs):\n",
        "  epoch_loss = 0\n",
        "  epoch_accuracy = 0\n",
        "  for X,y in train_loader:\n",
        "    optimizer.zero_grad()\n",
        "\n",
        "    output = net(X)\n",
        "\n",
        "    loss = criterion(output,y)\n",
        "    loss.backward()\n",
        "\n",
        "    optimizer.step()\n",
        "    _, predicted = torch.max(output, dim=1)\n",
        "    accuracy = (predicted ==y).sum().item()\n",
        "    epoch_loss +=loss.item()\n",
        "    epoch_accuracy += accuracy\n",
        "\n",
        "  epoch_loss /= len(train_loader)\n",
        "  epoch_accuracy /= len(X_train)\n",
        "  print(\"epoch:{}, \\tloss:{}, \\taccuracy : {}\".format(str(epoch+1).zfill(3),round(epoch_loss,4),round(epoch_accuracy,4)))\n",
        "\n",
        "  losses.append(epoch_loss)\n",
        "  accuracies.append(epoch_accuracy)"
      ],
      "metadata": {
        "colab": {
          "base_uri": "https://localhost:8080/"
        },
        "id": "FBI4UsBPfVR7",
        "outputId": "0f22df41-55c4-4cfe-9a04-2cfa7cdfbd85"
      },
      "execution_count": 40,
      "outputs": [
        {
          "output_type": "stream",
          "name": "stdout",
          "text": [
            "epoch:001, \tloss:0.4035, \taccuracy : 0.8571\n",
            "epoch:002, \tloss:0.3816, \taccuracy : 0.8661\n",
            "epoch:003, \tloss:0.4351, \taccuracy : 0.8214\n",
            "epoch:004, \tloss:0.3918, \taccuracy : 0.8929\n",
            "epoch:005, \tloss:0.4429, \taccuracy : 0.8304\n",
            "epoch:006, \tloss:0.3015, \taccuracy : 0.9196\n",
            "epoch:007, \tloss:0.4379, \taccuracy : 0.8393\n",
            "epoch:008, \tloss:0.4986, \taccuracy : 0.7857\n",
            "epoch:009, \tloss:0.3884, \taccuracy : 0.8482\n",
            "epoch:010, \tloss:0.4573, \taccuracy : 0.8393\n",
            "epoch:011, \tloss:0.5503, \taccuracy : 0.7857\n",
            "epoch:012, \tloss:0.3886, \taccuracy : 0.875\n",
            "epoch:013, \tloss:0.4898, \taccuracy : 0.7768\n",
            "epoch:014, \tloss:0.3965, \taccuracy : 0.8661\n",
            "epoch:015, \tloss:0.4837, \taccuracy : 0.7768\n",
            "epoch:016, \tloss:0.4813, \taccuracy : 0.7768\n",
            "epoch:017, \tloss:0.4529, \taccuracy : 0.8393\n",
            "epoch:018, \tloss:0.4493, \taccuracy : 0.8929\n",
            "epoch:019, \tloss:0.4565, \taccuracy : 0.8304\n",
            "epoch:020, \tloss:0.3388, \taccuracy : 0.9018\n",
            "epoch:021, \tloss:0.3175, \taccuracy : 0.8839\n",
            "epoch:022, \tloss:0.4127, \taccuracy : 0.8304\n",
            "epoch:023, \tloss:0.3908, \taccuracy : 0.8661\n",
            "epoch:024, \tloss:0.4654, \taccuracy : 0.8214\n",
            "epoch:025, \tloss:0.3931, \taccuracy : 0.8304\n",
            "epoch:026, \tloss:0.3564, \taccuracy : 0.8661\n",
            "epoch:027, \tloss:0.3848, \taccuracy : 0.8482\n",
            "epoch:028, \tloss:0.396, \taccuracy : 0.8214\n",
            "epoch:029, \tloss:0.4898, \taccuracy : 0.7946\n",
            "epoch:030, \tloss:0.3653, \taccuracy : 0.8661\n",
            "epoch:031, \tloss:0.4194, \taccuracy : 0.8304\n",
            "epoch:032, \tloss:0.4073, \taccuracy : 0.8482\n",
            "epoch:033, \tloss:0.3261, \taccuracy : 0.9107\n",
            "epoch:034, \tloss:0.4057, \taccuracy : 0.8571\n",
            "epoch:035, \tloss:0.3795, \taccuracy : 0.8393\n",
            "epoch:036, \tloss:0.3547, \taccuracy : 0.8571\n",
            "epoch:037, \tloss:0.5137, \taccuracy : 0.8036\n",
            "epoch:038, \tloss:0.378, \taccuracy : 0.875\n",
            "epoch:039, \tloss:0.3259, \taccuracy : 0.8839\n",
            "epoch:040, \tloss:0.4282, \taccuracy : 0.8482\n",
            "epoch:041, \tloss:0.3958, \taccuracy : 0.8571\n",
            "epoch:042, \tloss:0.3143, \taccuracy : 0.8929\n",
            "epoch:043, \tloss:0.4573, \taccuracy : 0.8482\n",
            "epoch:044, \tloss:0.3346, \taccuracy : 0.8839\n",
            "epoch:045, \tloss:0.5519, \taccuracy : 0.7321\n",
            "epoch:046, \tloss:0.4398, \taccuracy : 0.8304\n",
            "epoch:047, \tloss:0.4377, \taccuracy : 0.8304\n",
            "epoch:048, \tloss:0.3888, \taccuracy : 0.8571\n",
            "epoch:049, \tloss:0.3062, \taccuracy : 0.8661\n",
            "epoch:050, \tloss:0.3453, \taccuracy : 0.8929\n",
            "epoch:051, \tloss:0.3355, \taccuracy : 0.875\n",
            "epoch:052, \tloss:0.3613, \taccuracy : 0.8482\n",
            "epoch:053, \tloss:0.5078, \taccuracy : 0.8214\n",
            "epoch:054, \tloss:0.3523, \taccuracy : 0.8571\n",
            "epoch:055, \tloss:0.376, \taccuracy : 0.8304\n",
            "epoch:056, \tloss:0.4429, \taccuracy : 0.8393\n",
            "epoch:057, \tloss:0.3731, \taccuracy : 0.8393\n",
            "epoch:058, \tloss:0.3155, \taccuracy : 0.8839\n",
            "epoch:059, \tloss:0.4753, \taccuracy : 0.7946\n",
            "epoch:060, \tloss:0.4988, \taccuracy : 0.8214\n",
            "epoch:061, \tloss:0.4514, \taccuracy : 0.7946\n",
            "epoch:062, \tloss:0.4415, \taccuracy : 0.8304\n",
            "epoch:063, \tloss:0.3176, \taccuracy : 0.9107\n",
            "epoch:064, \tloss:0.3469, \taccuracy : 0.8839\n",
            "epoch:065, \tloss:0.384, \taccuracy : 0.8393\n",
            "epoch:066, \tloss:0.4631, \taccuracy : 0.8304\n",
            "epoch:067, \tloss:0.4208, \taccuracy : 0.8304\n",
            "epoch:068, \tloss:0.3498, \taccuracy : 0.8304\n",
            "epoch:069, \tloss:0.507, \taccuracy : 0.7946\n",
            "epoch:070, \tloss:0.3738, \taccuracy : 0.8839\n",
            "epoch:071, \tloss:0.39, \taccuracy : 0.8482\n",
            "epoch:072, \tloss:0.3942, \taccuracy : 0.8571\n",
            "epoch:073, \tloss:0.4641, \taccuracy : 0.7946\n",
            "epoch:074, \tloss:0.3638, \taccuracy : 0.875\n",
            "epoch:075, \tloss:0.2764, \taccuracy : 0.9107\n",
            "epoch:076, \tloss:0.3156, \taccuracy : 0.8839\n",
            "epoch:077, \tloss:0.423, \taccuracy : 0.8482\n",
            "epoch:078, \tloss:0.414, \taccuracy : 0.8482\n",
            "epoch:079, \tloss:0.3371, \taccuracy : 0.8571\n",
            "epoch:080, \tloss:0.3786, \taccuracy : 0.8839\n",
            "epoch:081, \tloss:0.3194, \taccuracy : 0.8571\n",
            "epoch:082, \tloss:0.3444, \taccuracy : 0.8571\n",
            "epoch:083, \tloss:0.3075, \taccuracy : 0.9018\n",
            "epoch:084, \tloss:0.4163, \taccuracy : 0.8393\n",
            "epoch:085, \tloss:0.3745, \taccuracy : 0.8304\n",
            "epoch:086, \tloss:0.4631, \taccuracy : 0.8036\n",
            "epoch:087, \tloss:0.2607, \taccuracy : 0.9286\n",
            "epoch:088, \tloss:0.3631, \taccuracy : 0.8839\n",
            "epoch:089, \tloss:0.45, \taccuracy : 0.8304\n",
            "epoch:090, \tloss:0.4653, \taccuracy : 0.7946\n",
            "epoch:091, \tloss:0.482, \taccuracy : 0.8304\n",
            "epoch:092, \tloss:0.3626, \taccuracy : 0.8393\n",
            "epoch:093, \tloss:0.3675, \taccuracy : 0.8929\n",
            "epoch:094, \tloss:0.4293, \taccuracy : 0.8393\n",
            "epoch:095, \tloss:0.4083, \taccuracy : 0.8036\n",
            "epoch:096, \tloss:0.3099, \taccuracy : 0.875\n",
            "epoch:097, \tloss:0.478, \taccuracy : 0.7946\n",
            "epoch:098, \tloss:0.3422, \taccuracy : 0.8661\n",
            "epoch:099, \tloss:0.4128, \taccuracy : 0.8482\n",
            "epoch:100, \tloss:0.4408, \taccuracy : 0.8214\n",
            "epoch:101, \tloss:0.4372, \taccuracy : 0.8304\n",
            "epoch:102, \tloss:0.3277, \taccuracy : 0.8661\n",
            "epoch:103, \tloss:0.4808, \taccuracy : 0.8214\n",
            "epoch:104, \tloss:0.3401, \taccuracy : 0.8661\n",
            "epoch:105, \tloss:0.3985, \taccuracy : 0.8036\n",
            "epoch:106, \tloss:0.3898, \taccuracy : 0.8393\n",
            "epoch:107, \tloss:0.388, \taccuracy : 0.8661\n",
            "epoch:108, \tloss:0.4163, \taccuracy : 0.7857\n",
            "epoch:109, \tloss:0.438, \taccuracy : 0.8393\n",
            "epoch:110, \tloss:0.2479, \taccuracy : 0.9107\n",
            "epoch:111, \tloss:0.2736, \taccuracy : 0.9196\n",
            "epoch:112, \tloss:0.3466, \taccuracy : 0.8482\n",
            "epoch:113, \tloss:0.3268, \taccuracy : 0.8929\n",
            "epoch:114, \tloss:0.3357, \taccuracy : 0.8839\n",
            "epoch:115, \tloss:0.4701, \taccuracy : 0.8214\n",
            "epoch:116, \tloss:0.3906, \taccuracy : 0.8571\n",
            "epoch:117, \tloss:0.3763, \taccuracy : 0.8571\n",
            "epoch:118, \tloss:0.3491, \taccuracy : 0.8571\n",
            "epoch:119, \tloss:0.3582, \taccuracy : 0.8571\n",
            "epoch:120, \tloss:0.3122, \taccuracy : 0.9196\n",
            "epoch:121, \tloss:0.2969, \taccuracy : 0.9375\n",
            "epoch:122, \tloss:0.3238, \taccuracy : 0.8482\n",
            "epoch:123, \tloss:0.5615, \taccuracy : 0.7589\n",
            "epoch:124, \tloss:0.4384, \taccuracy : 0.8125\n",
            "epoch:125, \tloss:0.3324, \taccuracy : 0.9018\n",
            "epoch:126, \tloss:0.3296, \taccuracy : 0.8661\n",
            "epoch:127, \tloss:0.3755, \taccuracy : 0.8125\n",
            "epoch:128, \tloss:0.3487, \taccuracy : 0.8571\n",
            "epoch:129, \tloss:0.2853, \taccuracy : 0.9107\n",
            "epoch:130, \tloss:0.4544, \taccuracy : 0.8304\n",
            "epoch:131, \tloss:0.3316, \taccuracy : 0.8571\n",
            "epoch:132, \tloss:0.2903, \taccuracy : 0.875\n",
            "epoch:133, \tloss:0.3708, \taccuracy : 0.8482\n",
            "epoch:134, \tloss:0.2815, \taccuracy : 0.8839\n",
            "epoch:135, \tloss:0.3932, \taccuracy : 0.8661\n",
            "epoch:136, \tloss:0.4423, \taccuracy : 0.8304\n",
            "epoch:137, \tloss:0.4457, \taccuracy : 0.8036\n",
            "epoch:138, \tloss:0.3604, \taccuracy : 0.8304\n",
            "epoch:139, \tloss:0.38, \taccuracy : 0.8393\n",
            "epoch:140, \tloss:0.3709, \taccuracy : 0.8661\n",
            "epoch:141, \tloss:0.361, \taccuracy : 0.8661\n",
            "epoch:142, \tloss:0.3272, \taccuracy : 0.8661\n",
            "epoch:143, \tloss:0.4535, \taccuracy : 0.8393\n",
            "epoch:144, \tloss:0.3074, \taccuracy : 0.8929\n",
            "epoch:145, \tloss:0.3937, \taccuracy : 0.8661\n",
            "epoch:146, \tloss:0.3836, \taccuracy : 0.8482\n",
            "epoch:147, \tloss:0.4007, \taccuracy : 0.8482\n",
            "epoch:148, \tloss:0.3216, \taccuracy : 0.9286\n",
            "epoch:149, \tloss:0.351, \taccuracy : 0.8393\n",
            "epoch:150, \tloss:0.4688, \taccuracy : 0.8036\n",
            "epoch:151, \tloss:0.3989, \taccuracy : 0.8214\n",
            "epoch:152, \tloss:0.3231, \taccuracy : 0.8571\n",
            "epoch:153, \tloss:0.3072, \taccuracy : 0.875\n",
            "epoch:154, \tloss:0.3109, \taccuracy : 0.9196\n",
            "epoch:155, \tloss:0.3392, \taccuracy : 0.8929\n",
            "epoch:156, \tloss:0.3409, \taccuracy : 0.8661\n",
            "epoch:157, \tloss:0.3621, \taccuracy : 0.8661\n",
            "epoch:158, \tloss:0.3573, \taccuracy : 0.8482\n",
            "epoch:159, \tloss:0.4023, \taccuracy : 0.8125\n",
            "epoch:160, \tloss:0.2972, \taccuracy : 0.9107\n",
            "epoch:161, \tloss:0.2672, \taccuracy : 0.9196\n",
            "epoch:162, \tloss:0.3089, \taccuracy : 0.8482\n",
            "epoch:163, \tloss:0.3186, \taccuracy : 0.9018\n",
            "epoch:164, \tloss:0.4076, \taccuracy : 0.8393\n",
            "epoch:165, \tloss:0.3752, \taccuracy : 0.8661\n",
            "epoch:166, \tloss:0.3335, \taccuracy : 0.8929\n",
            "epoch:167, \tloss:0.3491, \taccuracy : 0.8482\n",
            "epoch:168, \tloss:0.3916, \taccuracy : 0.8304\n",
            "epoch:169, \tloss:0.2623, \taccuracy : 0.9196\n",
            "epoch:170, \tloss:0.2985, \taccuracy : 0.9196\n",
            "epoch:171, \tloss:0.3176, \taccuracy : 0.9018\n",
            "epoch:172, \tloss:0.2919, \taccuracy : 0.8839\n",
            "epoch:173, \tloss:0.3837, \taccuracy : 0.8393\n",
            "epoch:174, \tloss:0.3347, \taccuracy : 0.8929\n",
            "epoch:175, \tloss:0.3862, \taccuracy : 0.8304\n",
            "epoch:176, \tloss:0.3144, \taccuracy : 0.8571\n",
            "epoch:177, \tloss:0.4367, \taccuracy : 0.8482\n",
            "epoch:178, \tloss:0.3728, \taccuracy : 0.8393\n",
            "epoch:179, \tloss:0.3979, \taccuracy : 0.8393\n",
            "epoch:180, \tloss:0.3308, \taccuracy : 0.9196\n",
            "epoch:181, \tloss:0.2801, \taccuracy : 0.9107\n",
            "epoch:182, \tloss:0.3779, \taccuracy : 0.8125\n",
            "epoch:183, \tloss:0.3935, \taccuracy : 0.8571\n",
            "epoch:184, \tloss:0.3954, \taccuracy : 0.8393\n",
            "epoch:185, \tloss:0.2743, \taccuracy : 0.9018\n",
            "epoch:186, \tloss:0.2942, \taccuracy : 0.9107\n",
            "epoch:187, \tloss:0.3139, \taccuracy : 0.875\n",
            "epoch:188, \tloss:0.2765, \taccuracy : 0.875\n",
            "epoch:189, \tloss:0.4162, \taccuracy : 0.8036\n",
            "epoch:190, \tloss:0.3329, \taccuracy : 0.8482\n",
            "epoch:191, \tloss:0.455, \taccuracy : 0.8214\n",
            "epoch:192, \tloss:0.3561, \taccuracy : 0.875\n",
            "epoch:193, \tloss:0.2949, \taccuracy : 0.8839\n",
            "epoch:194, \tloss:0.4174, \taccuracy : 0.8482\n",
            "epoch:195, \tloss:0.34, \taccuracy : 0.875\n",
            "epoch:196, \tloss:0.3147, \taccuracy : 0.8839\n",
            "epoch:197, \tloss:0.3084, \taccuracy : 0.875\n",
            "epoch:198, \tloss:0.3243, \taccuracy : 0.875\n",
            "epoch:199, \tloss:0.2716, \taccuracy : 0.8839\n",
            "epoch:200, \tloss:0.33, \taccuracy : 0.875\n"
          ]
        }
      ]
    },
    {
      "cell_type": "code",
      "source": [
        "import matplotlib.pyplot as plt\n",
        "\n",
        "import matplotlib.pyplot as plt\n",
        "\n",
        "plt.figure(figsize=(20,5))\n",
        "plt.subplots_adjust(wspace=0.2)\n",
        "\n",
        "plt. subplot(1,2,1)\n",
        "plt.title(\"$loss$\",fontsize = 18)\n",
        "plt.plot(losses)\n",
        "plt.grid()\n",
        "plt.xlabel(\"$epochs$\",fontsize=16)\n",
        "plt.xticks(fontsize=14)\n",
        "plt.yticks(fontsize=14)\n",
        "\n",
        "plt.subplot(1,2,2)\n",
        "plt.title(\"$accuracy$\",fontsize = 18)\n",
        "plt.plot(accuracies)\n",
        "plt.grid()\n",
        "plt.xlabel(\"$epoch$\",fontsize=16)\n",
        "plt.xticks(fontsize = 14)\n",
        "plt.yticks(fontsize = 14)\n",
        "\n",
        "plt.show()"
      ],
      "metadata": {
        "colab": {
          "base_uri": "https://localhost:8080/",
          "height": 210
        },
        "id": "w-WZvNnygJyE",
        "outputId": "8ca8da57-44fc-410c-8758-b8ccd0ea5c0e"
      },
      "execution_count": 42,
      "outputs": [
        {
          "output_type": "display_data",
          "data": {
            "text/plain": [
              "<Figure size 1440x360 with 2 Axes>"
            ],
            "image/png": "[encoded data removed]"
          },
          "metadata": {
            "needs_background": "light"
          }
        }
      ]
    },
    {
      "cell_type": "code",
      "source": [
        "# TEST 모델 성능 평가\n",
        "\n",
        "output = net(X_test)\n",
        "print(torch.max(output,dim=1))\n",
        "_,predicted = torch.max(output, dim=1)\n",
        "accuracy = round((predicted == y_test).sum().item() / len(y_test),4)\n",
        "\n",
        "print(\"Test_set accuracy :\", round(accuracy,4))"
      ],
      "metadata": {
        "colab": {
          "base_uri": "https://localhost:8080/"
        },
        "id": "gf5k3_fvhPKo",
        "outputId": "6873f0dc-9063-46c1-f8db-24e392fd1b71"
      },
      "execution_count": 43,
      "outputs": [
        {
          "output_type": "stream",
          "name": "stdout",
          "text": [
            "torch.return_types.max(\n",
            "values=tensor([4.7558, 3.3810, 2.8712, 1.4228, 3.5369, 2.6377, 3.8714, 2.1828, 4.0235,\n",
            "        2.5657, 2.3908, 2.6676, 1.7816, 3.0538, 3.9099, 3.8008, 2.9396, 2.8588,\n",
            "        3.4471, 2.9285, 1.1732, 3.3835, 4.1405, 2.0341, 1.8439, 1.8747, 3.7057,\n",
            "        2.0401, 4.6898, 3.3731, 4.3557, 1.2259, 2.7016, 1.6506, 3.4459, 2.7651,\n",
            "        2.0692, 2.8094], grad_fn=<MaxBackward0>),\n",
            "indices=tensor([2, 2, 0, 0, 2, 1, 0, 1, 2, 1, 0, 2, 0, 0, 0, 1, 0, 1, 0, 1, 1, 2, 2, 0,\n",
            "        2, 0, 0, 0, 2, 0, 1, 0, 0, 2, 0, 2, 1, 2]))\n",
            "Test_set accuracy : 0.8947\n"
          ]
        }
      ]
    },
    {
      "cell_type": "code",
      "source": [
        ""
      ],
      "metadata": {
        "id": "idbyT6ZRhtu8"
      },
      "execution_count": null,
      "outputs": []
    }
  ]
}