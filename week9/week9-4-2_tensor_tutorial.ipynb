{
  "nbformat": 4,
  "nbformat_minor": 0,
  "metadata": {
    "colab": {
      "name": "tensor_tutorial.ipynb",
      "provenance": [],
      "collapsed_sections": [],
      "authorship_tag": "ABX9TyNfxqkrofOzK/9559iHmtcV",
      "include_colab_link": true
    },
    "kernelspec": {
      "name": "python3",
      "display_name": "Python 3"
    },
    "language_info": {
      "name": "python"
    },
    "accelerator": "GPU"
  },
  "cells": [
    {
      "cell_type": "markdown",
      "metadata": {
        "id": "view-in-github",
        "colab_type": "text"
      },
      "source": [
        "<a href=\"https://colab.research.google.com/github/LeeJuCheon/TIL_devcourse/blob/main/week9/week9-4-2_tensor_tutorial.ipynb\" target=\"_parent\"><img src=\"https://colab.research.google.com/assets/colab-badge.svg\" alt=\"Open In Colab\"/></a>"
      ]
    },
    {
      "cell_type": "code",
      "execution_count": 4,
      "metadata": {
        "id": "yKn0i0sOw4KP"
      },
      "outputs": [],
      "source": [
        "%matplotlib inline            \n",
        "# plt.show 없이 출력 가능하게"
      ]
    },
    {
      "cell_type": "markdown",
      "source": [
        "# PyTorch\n",
        "* Numpy를 대체하면서 GPU를 이용한 연산이 필요한 경우\n",
        "* 최대한의 유연성과 속도를 제공하는 딥러닝 연구 플랫폼이 필요한 경우"
      ],
      "metadata": {
        "id": "hhHtEV4WyYlx"
      }
    },
    {
      "cell_type": "code",
      "source": [
        "from __future__ import print_function     # 파이썬 버전에 상관없이 print() 출력가능\n",
        "import torch\n",
        "\n",
        "torch.__version__"
      ],
      "metadata": {
        "colab": {
          "base_uri": "https://localhost:8080/",
          "height": 35
        },
        "id": "KxqvMuQOyrXn",
        "outputId": "3d36b8ba-b111-4229-e2b8-2228bb670751"
      },
      "execution_count": 2,
      "outputs": [
        {
          "output_type": "execute_result",
          "data": {
            "text/plain": [
              "'1.10.0+cu111'"
            ],
            "application/vnd.google.colaboratory.intrinsic+json": {
              "type": "string"
            }
          },
          "metadata": {},
          "execution_count": 2
        }
      ]
    },
    {
      "cell_type": "code",
      "source": [
        "# 5x3 행렬 생성, 초기화 X\n",
        "x=torch.empty(5,3)\n",
        "print(x)"
      ],
      "metadata": {
        "colab": {
          "base_uri": "https://localhost:8080/"
        },
        "id": "0Cd2D9rIy6II",
        "outputId": "671da48c-753d-4923-e912-ecc3da391d12"
      },
      "execution_count": 6,
      "outputs": [
        {
          "output_type": "stream",
          "name": "stdout",
          "text": [
            "tensor([[3.2920e-19, 3.0705e-41, 3.3631e-44],\n",
            "        [0.0000e+00,        nan, 6.4460e-44],\n",
            "        [1.1578e+27, 1.1362e+30, 7.1547e+22],\n",
            "        [4.5828e+30, 1.2121e+04, 7.1846e+22],\n",
            "        [9.2198e-39, 7.0374e+22, 0.0000e+00]])\n"
          ]
        }
      ]
    },
    {
      "cell_type": "code",
      "source": [
        "x = torch.randn(5,3)  # 정규분포에서 샘플링\n",
        "print(x)\n",
        "x=torch.rand(5,3)     # 0~1사이의 수 샘플링\n",
        "print(x)"
      ],
      "metadata": {
        "colab": {
          "base_uri": "https://localhost:8080/"
        },
        "id": "5_KUzYcLzLPW",
        "outputId": "2bc5bbd3-5faa-43ee-b03b-6220bac4588b"
      },
      "execution_count": 3,
      "outputs": [
        {
          "output_type": "stream",
          "name": "stdout",
          "text": [
            "tensor([[-0.5390, -0.9360, -1.0315],\n",
            "        [ 1.4262,  0.4548, -0.8258],\n",
            "        [-2.2317,  0.3648, -2.6564],\n",
            "        [ 0.8303,  0.4834, -0.6468],\n",
            "        [-1.0962,  0.8162,  1.3509]])\n",
            "tensor([[0.4628, 0.3067, 0.7877],\n",
            "        [0.6594, 0.2261, 0.4802],\n",
            "        [0.2277, 0.9935, 0.7191],\n",
            "        [0.4909, 0.7561, 0.0712],\n",
            "        [0.2679, 0.6213, 0.8272]])\n"
          ]
        }
      ]
    },
    {
      "cell_type": "code",
      "source": [
        "x = torch.zeros(5,3, dtype=torch.long)    # dtype이 long, 0으로 채워진 행렬\n",
        "print(x)"
      ],
      "metadata": {
        "colab": {
          "base_uri": "https://localhost:8080/"
        },
        "id": "EBk50E3i3be-",
        "outputId": "8c66c8c3-1722-4de8-bf6a-4e1b5a37a229"
      },
      "execution_count": 5,
      "outputs": [
        {
          "output_type": "stream",
          "name": "stdout",
          "text": [
            "tensor([[0, 0, 0],\n",
            "        [0, 0, 0],\n",
            "        [0, 0, 0],\n",
            "        [0, 0, 0],\n",
            "        [0, 0, 0]])\n"
          ]
        }
      ]
    },
    {
      "cell_type": "code",
      "source": [
        "x = torch.ones(5,3,dtype=torch.long)      # dtype이 long, 1로 채워진 행렬\n",
        "print(x)"
      ],
      "metadata": {
        "colab": {
          "base_uri": "https://localhost:8080/"
        },
        "id": "pofdRE3D6hy-",
        "outputId": "3f9631bc-aa6d-4fab-c2e6-fd3c8797a372"
      },
      "execution_count": 7,
      "outputs": [
        {
          "output_type": "stream",
          "name": "stdout",
          "text": [
            "tensor([[1, 1, 1],\n",
            "        [1, 1, 1],\n",
            "        [1, 1, 1],\n",
            "        [1, 1, 1],\n",
            "        [1, 1, 1]])\n"
          ]
        }
      ]
    },
    {
      "cell_type": "code",
      "source": [
        "x= torch.tensor([5.5,3])      # tensor 직접 생성\n",
        "print(x)"
      ],
      "metadata": {
        "colab": {
          "base_uri": "https://localhost:8080/"
        },
        "id": "us_m4MN96r86",
        "outputId": "37e4da15-1af6-483f-ac47-421d2dfcda47"
      },
      "execution_count": 8,
      "outputs": [
        {
          "output_type": "stream",
          "name": "stdout",
          "text": [
            "tensor([5.5000, 3.0000])\n"
          ]
        }
      ]
    },
    {
      "cell_type": "code",
      "source": [
        "x = x.new_ones(5,3,dtype = torch.double)    \n",
        "print(x)\n",
        "\n",
        "x= torch.randn_like(x, dtype=torch.float)     # type override\n",
        "print(x)"
      ],
      "metadata": {
        "colab": {
          "base_uri": "https://localhost:8080/"
        },
        "id": "l1Fm6omD61Tb",
        "outputId": "f988ca8c-92ad-4493-b32e-40b7073f8ab4"
      },
      "execution_count": 10,
      "outputs": [
        {
          "output_type": "stream",
          "name": "stdout",
          "text": [
            "tensor([[1., 1., 1.],\n",
            "        [1., 1., 1.],\n",
            "        [1., 1., 1.],\n",
            "        [1., 1., 1.],\n",
            "        [1., 1., 1.]], dtype=torch.float64)\n",
            "tensor([[ 1.1174, -1.3793,  0.5630],\n",
            "        [-0.9232,  0.6521,  1.9861],\n",
            "        [-1.1819, -0.7354,  0.2193],\n",
            "        [-0.9165, -0.6830, -1.1922],\n",
            "        [-1.9040,  1.3106, -0.6539]])\n"
          ]
        }
      ]
    },
    {
      "cell_type": "code",
      "source": [
        "print(x.size())\n",
        "print(x.shape)"
      ],
      "metadata": {
        "colab": {
          "base_uri": "https://localhost:8080/"
        },
        "id": "I_AJkafw7D7y",
        "outputId": "3fd1374e-e0e2-450a-9211-b0d301a68b2c"
      },
      "execution_count": 11,
      "outputs": [
        {
          "output_type": "stream",
          "name": "stdout",
          "text": [
            "torch.Size([5, 3])\n",
            "torch.Size([5, 3])\n"
          ]
        }
      ]
    },
    {
      "cell_type": "code",
      "source": [
        "y = torch.rand(5,3)\n",
        "print(x)\n",
        "print(y)\n",
        "print(x+y)"
      ],
      "metadata": {
        "colab": {
          "base_uri": "https://localhost:8080/"
        },
        "id": "HMdDTlql7gR-",
        "outputId": "eecc1ccc-b294-4013-ccbc-f53f2bafd195"
      },
      "execution_count": 12,
      "outputs": [
        {
          "output_type": "stream",
          "name": "stdout",
          "text": [
            "tensor([[ 1.1174, -1.3793,  0.5630],\n",
            "        [-0.9232,  0.6521,  1.9861],\n",
            "        [-1.1819, -0.7354,  0.2193],\n",
            "        [-0.9165, -0.6830, -1.1922],\n",
            "        [-1.9040,  1.3106, -0.6539]])\n",
            "tensor([[0.9174, 0.2586, 0.1546],\n",
            "        [0.2547, 0.1699, 0.1632],\n",
            "        [0.0857, 0.6475, 0.9984],\n",
            "        [0.9413, 0.7723, 0.3911],\n",
            "        [0.6656, 0.2960, 0.8131]])\n",
            "tensor([[ 2.0348, -1.1206,  0.7176],\n",
            "        [-0.6685,  0.8220,  2.1492],\n",
            "        [-1.0962, -0.0879,  1.2177],\n",
            "        [ 0.0248,  0.0893, -0.8011],\n",
            "        [-1.2384,  1.6065,  0.1592]])\n"
          ]
        }
      ]
    },
    {
      "cell_type": "code",
      "source": [
        "print(torch.add(x,y))"
      ],
      "metadata": {
        "colab": {
          "base_uri": "https://localhost:8080/"
        },
        "id": "YegHAB_E7nlX",
        "outputId": "6e0a8de2-a24a-4458-bd24-c756a00fd7d7"
      },
      "execution_count": 13,
      "outputs": [
        {
          "output_type": "stream",
          "name": "stdout",
          "text": [
            "tensor([[ 2.0348, -1.1206,  0.7176],\n",
            "        [-0.6685,  0.8220,  2.1492],\n",
            "        [-1.0962, -0.0879,  1.2177],\n",
            "        [ 0.0248,  0.0893, -0.8011],\n",
            "        [-1.2384,  1.6065,  0.1592]])\n"
          ]
        }
      ]
    },
    {
      "cell_type": "code",
      "source": [
        "result = torch.empty(5,3)\n",
        "print(result)\n",
        "\n",
        "torch.add(x,y,out=result)\n",
        "print(result)"
      ],
      "metadata": {
        "colab": {
          "base_uri": "https://localhost:8080/"
        },
        "id": "DK9KE2ge7qev",
        "outputId": "e24263d3-f154-43ce-d41c-0ceb04a32891"
      },
      "execution_count": 14,
      "outputs": [
        {
          "output_type": "stream",
          "name": "stdout",
          "text": [
            "tensor([[-1.5472e+16,  3.0836e-41,  3.3631e-44],\n",
            "        [ 0.0000e+00,         nan,  1.5028e+00],\n",
            "        [ 1.1578e+27,  1.1362e+30,  7.1547e+22],\n",
            "        [ 4.5828e+30,  1.2121e+04,  7.1846e+22],\n",
            "        [ 9.2198e-39,  7.0374e+22,  6.7101e-01]])\n",
            "tensor([[ 2.0348, -1.1206,  0.7176],\n",
            "        [-0.6685,  0.8220,  2.1492],\n",
            "        [-1.0962, -0.0879,  1.2177],\n",
            "        [ 0.0248,  0.0893, -0.8011],\n",
            "        [-1.2384,  1.6065,  0.1592]])\n"
          ]
        }
      ]
    },
    {
      "cell_type": "code",
      "source": [
        "print(y)\n",
        "y.add_(x)\n",
        "print(y)        # 바꿔치기(in-place) 방식 , 새로 생성하지 않는 기법"
      ],
      "metadata": {
        "colab": {
          "base_uri": "https://localhost:8080/"
        },
        "id": "PdNotCC471Wm",
        "outputId": "64fca6bc-2c43-4e72-9560-f0365adb5f1f"
      },
      "execution_count": 15,
      "outputs": [
        {
          "output_type": "stream",
          "name": "stdout",
          "text": [
            "tensor([[0.9174, 0.2586, 0.1546],\n",
            "        [0.2547, 0.1699, 0.1632],\n",
            "        [0.0857, 0.6475, 0.9984],\n",
            "        [0.9413, 0.7723, 0.3911],\n",
            "        [0.6656, 0.2960, 0.8131]])\n",
            "tensor([[ 2.0348, -1.1206,  0.7176],\n",
            "        [-0.6685,  0.8220,  2.1492],\n",
            "        [-1.0962, -0.0879,  1.2177],\n",
            "        [ 0.0248,  0.0893, -0.8011],\n",
            "        [-1.2384,  1.6065,  0.1592]])\n"
          ]
        }
      ]
    },
    {
      "cell_type": "code",
      "source": [
        "print(x)\n",
        "print(x[:,1])"
      ],
      "metadata": {
        "colab": {
          "base_uri": "https://localhost:8080/"
        },
        "id": "1drbhBe1798c",
        "outputId": "8d90b4e5-6bd6-40e1-b2eb-f8822e388f09"
      },
      "execution_count": 16,
      "outputs": [
        {
          "output_type": "stream",
          "name": "stdout",
          "text": [
            "tensor([[ 1.1174, -1.3793,  0.5630],\n",
            "        [-0.9232,  0.6521,  1.9861],\n",
            "        [-1.1819, -0.7354,  0.2193],\n",
            "        [-0.9165, -0.6830, -1.1922],\n",
            "        [-1.9040,  1.3106, -0.6539]])\n",
            "tensor([-1.3793,  0.6521, -0.7354, -0.6830,  1.3106])\n"
          ]
        }
      ]
    },
    {
      "cell_type": "code",
      "source": [
        "x = torch.randn(4,4)\n",
        "print(x)\n",
        "\n",
        "y= x.view(16)     #16개의 차원을 가진 벡터 생성, numpy의 reshape와 비슷\n",
        "z= y.view(-1,2)   \n",
        "print(y)\n",
        "print(z)\n",
        "print(y.size(),z.size())"
      ],
      "metadata": {
        "colab": {
          "base_uri": "https://localhost:8080/"
        },
        "id": "9TUqC6Nf8H6n",
        "outputId": "2adcb6e3-f8a3-4279-b263-49a3154940dd"
      },
      "execution_count": 17,
      "outputs": [
        {
          "output_type": "stream",
          "name": "stdout",
          "text": [
            "tensor([[ 1.5622,  1.4879, -0.8676, -1.7500],\n",
            "        [-0.9716, -0.4979, -0.6406, -2.1004],\n",
            "        [ 0.1970,  1.1878,  0.7916, -1.3586],\n",
            "        [-0.1473,  1.3853,  1.5678, -1.3228]])\n",
            "tensor([ 1.5622,  1.4879, -0.8676, -1.7500, -0.9716, -0.4979, -0.6406, -2.1004,\n",
            "         0.1970,  1.1878,  0.7916, -1.3586, -0.1473,  1.3853,  1.5678, -1.3228])\n",
            "tensor([[ 1.5622,  1.4879],\n",
            "        [-0.8676, -1.7500],\n",
            "        [-0.9716, -0.4979],\n",
            "        [-0.6406, -2.1004],\n",
            "        [ 0.1970,  1.1878],\n",
            "        [ 0.7916, -1.3586],\n",
            "        [-0.1473,  1.3853],\n",
            "        [ 1.5678, -1.3228]])\n",
            "torch.Size([16]) torch.Size([8, 2])\n"
          ]
        }
      ]
    },
    {
      "cell_type": "code",
      "source": [
        "x = torch.randn(1)\n",
        "print(x)\n",
        "print(type(x), type(x.item()))\n",
        "print(x.item())"
      ],
      "metadata": {
        "colab": {
          "base_uri": "https://localhost:8080/"
        },
        "id": "JNIUitpo8Zfa",
        "outputId": "0ae5f0aa-5cc0-4feb-bfad-6c4fd044e437"
      },
      "execution_count": 19,
      "outputs": [
        {
          "output_type": "stream",
          "name": "stdout",
          "text": [
            "tensor([0.0058])\n",
            "<class 'torch.Tensor'> <class 'float'>\n",
            "0.005804881919175386\n"
          ]
        }
      ]
    },
    {
      "cell_type": "markdown",
      "source": [
        "https://pytorch.org/docs/torch"
      ],
      "metadata": {
        "id": "jU9bLnkf8t5j"
      }
    },
    {
      "cell_type": "markdown",
      "source": [
        "# NumPy 변환(Bridge)\n",
        "\n",
        "TorchTensor를 NumPy 배열로 변환하거나 역의 경우\n",
        "\n",
        "<b> Torch Tensor와 NumPy 배열은 저장공간을 공유한다."
      ],
      "metadata": {
        "id": "ud9JIVCp85ML"
      }
    },
    {
      "cell_type": "code",
      "source": [
        "a = torch.ones(5)\n",
        "print(a)"
      ],
      "metadata": {
        "colab": {
          "base_uri": "https://localhost:8080/"
        },
        "id": "R9FnMnOi9QXq",
        "outputId": "6f4a9f71-7e35-4982-e9f6-a32de64b3714"
      },
      "execution_count": 20,
      "outputs": [
        {
          "output_type": "stream",
          "name": "stdout",
          "text": [
            "tensor([1., 1., 1., 1., 1.])\n"
          ]
        }
      ]
    },
    {
      "cell_type": "code",
      "source": [
        "b= a.numpy()\n",
        "print(b)"
      ],
      "metadata": {
        "colab": {
          "base_uri": "https://localhost:8080/"
        },
        "id": "CcfyaMDW9TdW",
        "outputId": "3b24ceea-41a6-4e1f-d863-2fcb44a99cf5"
      },
      "execution_count": 21,
      "outputs": [
        {
          "output_type": "stream",
          "name": "stdout",
          "text": [
            "[1. 1. 1. 1. 1.]\n"
          ]
        }
      ]
    },
    {
      "cell_type": "code",
      "source": [
        "a.add_(1)     # in-place\n",
        "print(a)\n",
        "print(b)      # 저장공간을 공유했기 때문에 1이 더해짐"
      ],
      "metadata": {
        "colab": {
          "base_uri": "https://localhost:8080/"
        },
        "id": "gvPFNtv29VEq",
        "outputId": "793a7d12-b356-4ea4-bbd5-539275748213"
      },
      "execution_count": 22,
      "outputs": [
        {
          "output_type": "stream",
          "name": "stdout",
          "text": [
            "tensor([2., 2., 2., 2., 2.])\n",
            "[2. 2. 2. 2. 2.]\n"
          ]
        }
      ]
    },
    {
      "cell_type": "code",
      "source": [
        "temp = a.clone()          # 저장공간을 분리하고 싶을 때\n",
        "temp_numpy = temp.numpy()\n",
        "\n",
        "a.add_(1)\n",
        "print(a)\n",
        "print(temp_numpy)"
      ],
      "metadata": {
        "colab": {
          "base_uri": "https://localhost:8080/"
        },
        "id": "6NDz8o0D9Xne",
        "outputId": "b443e9b8-57b7-45cb-c158-f75d9d1bf80d"
      },
      "execution_count": 23,
      "outputs": [
        {
          "output_type": "stream",
          "name": "stdout",
          "text": [
            "tensor([3., 3., 3., 3., 3.])\n",
            "[2. 2. 2. 2. 2.]\n"
          ]
        }
      ]
    },
    {
      "cell_type": "code",
      "source": [
        "import numpy as np\n",
        "a  = np.ones(5)\n",
        "print(a)\n",
        "b= torch.from_numpy(a)\n",
        "np.add(a,1,out=a)\n",
        "print(a)\n",
        "print(b)"
      ],
      "metadata": {
        "colab": {
          "base_uri": "https://localhost:8080/"
        },
        "id": "9n9XmWVf9rMa",
        "outputId": "3adafc00-8333-4938-b35a-8fa7476edf53"
      },
      "execution_count": 24,
      "outputs": [
        {
          "output_type": "stream",
          "name": "stdout",
          "text": [
            "[1. 1. 1. 1. 1.]\n",
            "[2. 2. 2. 2. 2.]\n",
            "tensor([2., 2., 2., 2., 2.], dtype=torch.float64)\n"
          ]
        }
      ]
    },
    {
      "cell_type": "markdown",
      "source": [
        "array를 tensor로 : b= torch.from_numpy(a)\n",
        "\n",
        "tensor를 array로 : b = a.numpy()"
      ],
      "metadata": {
        "id": "RQe09jf0914r"
      }
    },
    {
      "cell_type": "code",
      "source": [
        "import torch\n",
        "# CUDA 사용 가능한 환경에서만 실행 가능\n",
        "\n",
        "x = torch.rand(4,4)\n",
        "if torch.cuda.is_available():\n",
        "  device = \"cuda:0\"     # torch.device(\"cuda:0\")      # CUDA 장치 객체로\n",
        "  y= torch.ones_like(x,device=device)\n",
        "  print(y)\n",
        "\n",
        "  x= x.to(device)\n",
        "  z= x+y\n",
        "  print(z)\n",
        "  print(z.to(\"cpu\",torch.double))"
      ],
      "metadata": {
        "colab": {
          "base_uri": "https://localhost:8080/"
        },
        "id": "5DIFzAM89yna",
        "outputId": "1e5e48f1-92f9-454e-a2fc-3f861ccfd83d"
      },
      "execution_count": 26,
      "outputs": [
        {
          "output_type": "stream",
          "name": "stdout",
          "text": [
            "tensor([[1., 1., 1., 1.],\n",
            "        [1., 1., 1., 1.],\n",
            "        [1., 1., 1., 1.],\n",
            "        [1., 1., 1., 1.]], device='cuda:0')\n",
            "tensor([[1.5013, 1.0810, 1.2316, 1.9395],\n",
            "        [1.7441, 1.3976, 1.0676, 1.7036],\n",
            "        [1.8732, 1.1520, 1.5145, 1.0633],\n",
            "        [1.5854, 1.4077, 1.1061, 1.1437]], device='cuda:0')\n",
            "tensor([[1.5013, 1.0810, 1.2316, 1.9395],\n",
            "        [1.7441, 1.3976, 1.0676, 1.7036],\n",
            "        [1.8732, 1.1520, 1.5145, 1.0633],\n",
            "        [1.5854, 1.4077, 1.1061, 1.1437]], dtype=torch.float64)\n"
          ]
        }
      ]
    },
    {
      "cell_type": "code",
      "source": [
        "x = x.cuda()"
      ],
      "metadata": {
        "id": "zEFpoTgk-nIu"
      },
      "execution_count": 27,
      "outputs": []
    },
    {
      "cell_type": "markdown",
      "source": [
        "# Tensorflow 실습"
      ],
      "metadata": {
        "id": "epvqqDl1_NxL"
      }
    },
    {
      "cell_type": "code",
      "source": [
        "import tensorflow as tf\n",
        "print(tf.__version__)"
      ],
      "metadata": {
        "colab": {
          "base_uri": "https://localhost:8080/"
        },
        "id": "XE6K1iea_PmQ",
        "outputId": "840ee736-029b-4d8e-ae2f-462e667d4c10"
      },
      "execution_count": 28,
      "outputs": [
        {
          "output_type": "stream",
          "name": "stdout",
          "text": [
            "2.8.0\n"
          ]
        }
      ]
    },
    {
      "cell_type": "code",
      "source": [
        "my_variable = tf.Variable(tf.zeros([1,2,3]))\n",
        "my_variable"
      ],
      "metadata": {
        "colab": {
          "base_uri": "https://localhost:8080/"
        },
        "id": "KkjyRHiG_UCu",
        "outputId": "4c397165-3364-438d-97e6-0fc806ca1d96"
      },
      "execution_count": 31,
      "outputs": [
        {
          "output_type": "execute_result",
          "data": {
            "text/plain": [
              "<tf.Variable 'Variable:0' shape=(2, 2, 3) dtype=float32, numpy=\n",
              "array([[[0., 0., 0.],\n",
              "        [0., 0., 0.]],\n",
              "\n",
              "       [[0., 0., 0.],\n",
              "        [0., 0., 0.]]], dtype=float32)>"
            ]
          },
          "metadata": {},
          "execution_count": 31
        }
      ]
    },
    {
      "cell_type": "code",
      "source": [
        "v = tf.Variable(0.0)\n",
        "print(v)\n",
        "\n",
        "w = v+1\n",
        "\n",
        "print(w)"
      ],
      "metadata": {
        "colab": {
          "base_uri": "https://localhost:8080/"
        },
        "id": "6KFilnNo_azr",
        "outputId": "5200950a-ca23-442f-8127-ff047cc71596"
      },
      "execution_count": 33,
      "outputs": [
        {
          "output_type": "stream",
          "name": "stdout",
          "text": [
            "<tf.Variable 'Variable:0' shape=() dtype=float32, numpy=0.0>\n",
            "tf.Tensor(1.0, shape=(), dtype=float32)\n"
          ]
        }
      ]
    },
    {
      "cell_type": "code",
      "source": [
        "a = tf.Variable(0.0)\n",
        "a.assign_add(1)\n",
        "a.read_value()  # 1.0"
      ],
      "metadata": {
        "colab": {
          "base_uri": "https://localhost:8080/"
        },
        "id": "SWPhuQYD_qfK",
        "outputId": "e4c80690-1d66-4f2e-dcc8-903eaea826f6"
      },
      "execution_count": 34,
      "outputs": [
        {
          "output_type": "execute_result",
          "data": {
            "text/plain": [
              "<tf.Tensor: shape=(), dtype=float32, numpy=1.0>"
            ]
          },
          "metadata": {},
          "execution_count": 34
        }
      ]
    },
    {
      "cell_type": "code",
      "source": [
        "# Rank : 차원의 수\n",
        "\n",
        "# Rank 0\n",
        "mammal = tf.Variable(\"코끼리\",tf.string)\n",
        "ignition = tf.Variable(451, tf.int16)\n",
        "floating = tf. Variable(3.14159265359,tf.float64)\n",
        "its_complicated = tf.Variable(12.3 - 4.85j,tf.complex64)\n",
        "\n",
        "print(mammal)\n",
        "print(ignition)\n",
        "print(floating)\n",
        "print(its_complicated)"
      ],
      "metadata": {
        "colab": {
          "base_uri": "https://localhost:8080/"
        },
        "id": "efGqjBJ2_4ED",
        "outputId": "72e3cc95-c2d0-43a4-c38e-8f3812ab74ef"
      },
      "execution_count": 35,
      "outputs": [
        {
          "output_type": "stream",
          "name": "stdout",
          "text": [
            "<tf.Variable 'Variable:0' shape=() dtype=string, numpy=b'\\xec\\xbd\\x94\\xeb\\x81\\xbc\\xeb\\xa6\\xac'>\n",
            "<tf.Variable 'Variable:0' shape=() dtype=int32, numpy=451>\n",
            "<tf.Variable 'Variable:0' shape=() dtype=float32, numpy=3.1415927>\n",
            "<tf.Variable 'Variable:0' shape=() dtype=complex128, numpy=(12.3-4.85j)>\n"
          ]
        }
      ]
    },
    {
      "cell_type": "code",
      "source": [
        "# 랭크 1(벡터)\n",
        "\n",
        "mystr = tf.Variable([\"안녕하세요\"], tf.string)\n",
        "cool_numbers = tf.Variable([3.14159,2.71828],tf.float32)\n",
        "first_primes = tf.Variable([2,3,5,7,11],tf.int32)\n",
        "its_very_complicated = tf.Variable([12.3-4.85j,7.5-6.23j],tf.complex64)\n",
        "\n",
        "print(mystr)\n",
        "print(cool_numbers)\n",
        "print(first_primes)\n",
        "print(its_very_complicated)\n",
        "tf.rank(mystr)"
      ],
      "metadata": {
        "colab": {
          "base_uri": "https://localhost:8080/"
        },
        "id": "Ukhig5MtAZ43",
        "outputId": "1eb95b3a-6928-40cc-a69b-fc8cf2cf232f"
      },
      "execution_count": 37,
      "outputs": [
        {
          "output_type": "stream",
          "name": "stdout",
          "text": [
            "<tf.Variable 'Variable:0' shape=(1,) dtype=string, numpy=\n",
            "array([b'\\xec\\x95\\x88\\xeb\\x85\\x95\\xed\\x95\\x98\\xec\\x84\\xb8\\xec\\x9a\\x94'],\n",
            "      dtype=object)>\n",
            "<tf.Variable 'Variable:0' shape=(2,) dtype=float32, numpy=array([3.14159, 2.71828], dtype=float32)>\n",
            "<tf.Variable 'Variable:0' shape=(5,) dtype=int32, numpy=array([ 2,  3,  5,  7, 11], dtype=int32)>\n",
            "<tf.Variable 'Variable:0' shape=(2,) dtype=complex128, numpy=array([12.3-4.85j,  7.5-6.23j])>\n"
          ]
        },
        {
          "output_type": "execute_result",
          "data": {
            "text/plain": [
              "<tf.Tensor: shape=(), dtype=int32, numpy=1>"
            ]
          },
          "metadata": {},
          "execution_count": 37
        }
      ]
    },
    {
      "cell_type": "code",
      "source": [
        "# 고차원 랭크\n",
        "\n",
        "mymat = tf.Variable([[7],[11]],tf.int16)\n",
        "myxor = tf.Variable([[False,True],[True,False]],tf.bool)\n",
        "linear_squares = tf.Variable([[4],[9],[16],[25]],tf.int32)\n",
        "squarish_squares = tf.Variable([[4,9],[16,25]],tf.int32)\n",
        "\n",
        "rank_of_squares = tf.rank(squarish_squares)\n",
        "mymatC = tf.Variable([[7],[11]],tf.int32)\n",
        "\n",
        "print(mymat)\n",
        "print(rank_of_squares)\n"
      ],
      "metadata": {
        "colab": {
          "base_uri": "https://localhost:8080/"
        },
        "id": "oSR5hWTRBFHi",
        "outputId": "b4ec0835-37a7-4a6d-a6e4-5d20d0486dcb"
      },
      "execution_count": 38,
      "outputs": [
        {
          "output_type": "stream",
          "name": "stdout",
          "text": [
            "<tf.Variable 'Variable:0' shape=(2, 1) dtype=int32, numpy=\n",
            "array([[ 7],\n",
            "       [11]], dtype=int32)>\n",
            "tf.Tensor(2, shape=(), dtype=int32)\n"
          ]
        }
      ]
    },
    {
      "cell_type": "code",
      "source": [
        "# 원소 참조하기(인덱스 참조)\n",
        "my_vector = tf.Variable([1,2,3,4],tf.int32)\n",
        "print(tf.rank(my_vector))\n",
        "my_scalar = my_vector[2]\n",
        "print(my_scalar)"
      ],
      "metadata": {
        "colab": {
          "base_uri": "https://localhost:8080/"
        },
        "id": "VKAB1QmrCINm",
        "outputId": "e5fc45f6-2581-4074-ba6f-ca19a5788d73"
      },
      "execution_count": 40,
      "outputs": [
        {
          "output_type": "stream",
          "name": "stdout",
          "text": [
            "tf.Tensor(1, shape=(), dtype=int32)\n",
            "tf.Tensor(3, shape=(), dtype=int32)\n"
          ]
        }
      ]
    },
    {
      "cell_type": "code",
      "source": [
        "my_scalar = squarish_squares[1,0]\n",
        "print(my_scalar)"
      ],
      "metadata": {
        "colab": {
          "base_uri": "https://localhost:8080/"
        },
        "id": "U-7PlDxyCrAH",
        "outputId": "94649416-d20e-4d6e-fcc6-5f2907bdbfbc"
      },
      "execution_count": 41,
      "outputs": [
        {
          "output_type": "stream",
          "name": "stdout",
          "text": [
            "tf.Tensor(16, shape=(), dtype=int32)\n"
          ]
        }
      ]
    },
    {
      "cell_type": "code",
      "source": [
        "# tf.Tensor 객체 형태 얻기\n",
        "zeros = tf.zeros(squarish_squares.shape)\n",
        "zeros"
      ],
      "metadata": {
        "colab": {
          "base_uri": "https://localhost:8080/"
        },
        "id": "r8kFeNXaDB_X",
        "outputId": "c25bb72d-4256-4dd7-dd44-97aaa79a1c62"
      },
      "execution_count": 42,
      "outputs": [
        {
          "output_type": "execute_result",
          "data": {
            "text/plain": [
              "<tf.Tensor: shape=(2, 2), dtype=float32, numpy=\n",
              "array([[0., 0.],\n",
              "       [0., 0.]], dtype=float32)>"
            ]
          },
          "metadata": {},
          "execution_count": 42
        }
      ]
    },
    {
      "cell_type": "code",
      "source": [
        "# tf.Tensor 형태 변경(numpy와 동일하게 reshape,pytorch는 view)\n",
        "rank_three_tensor = tf.ones([3,4,5])\n",
        "print(rank_three_tensor.shape)\n",
        "matrix = tf.reshape(rank_three_tensor,[6,10])   # 기존 행렬을 6x10 행렬로 변경\n",
        "\n",
        "print(matrix.shape)\n",
        "matrixB = tf.reshape(matrix, [3,-1])\n",
        "\n",
        "print(matrixB.shape)"
      ],
      "metadata": {
        "colab": {
          "base_uri": "https://localhost:8080/"
        },
        "id": "04Igx4BbDNf7",
        "outputId": "ebc026e1-fe9a-411a-c7d4-03f2fa64ea0c"
      },
      "execution_count": 43,
      "outputs": [
        {
          "output_type": "stream",
          "name": "stdout",
          "text": [
            "(3, 4, 5)\n",
            "(6, 10)\n",
            "(3, 20)\n"
          ]
        }
      ]
    },
    {
      "cell_type": "code",
      "source": [
        "#정수형 텐서 실수형으로 변환\n",
        "a=tf.constant([1,2,3])\n",
        "print(a)\n",
        "\n",
        "float_tensor = tf.cast(tf.constant([1,2,3]),dtype=tf.float32)\n",
        "float_tensor"
      ],
      "metadata": {
        "colab": {
          "base_uri": "https://localhost:8080/"
        },
        "id": "aQh6c1ktDuyD",
        "outputId": "5bcd0180-a22e-40dd-9da4-b84a96b5bcc3"
      },
      "execution_count": 44,
      "outputs": [
        {
          "output_type": "stream",
          "name": "stdout",
          "text": [
            "tf.Tensor([1 2 3], shape=(3,), dtype=int32)\n"
          ]
        },
        {
          "output_type": "execute_result",
          "data": {
            "text/plain": [
              "<tf.Tensor: shape=(3,), dtype=float32, numpy=array([1., 2., 3.], dtype=float32)>"
            ]
          },
          "metadata": {},
          "execution_count": 44
        }
      ]
    },
    {
      "cell_type": "code",
      "source": [
        ""
      ],
      "metadata": {
        "id": "kGN6brZgEYkj"
      },
      "execution_count": null,
      "outputs": []
    }
  ]
}